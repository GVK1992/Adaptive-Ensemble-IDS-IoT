{
  "cells": [
    {
      "cell_type": "markdown",
      "metadata": {
        "id": "view-in-github",
        "colab_type": "text"
      },
      "source": [
        "<a href=\"https://colab.research.google.com/github/GVK1992/Adaptive-Ensemble-IDS-IoT/blob/main/Code.ipynb\" target=\"_parent\"><img src=\"https://colab.research.google.com/assets/colab-badge.svg\" alt=\"Open In Colab\"/></a>"
      ]
    },
    {
      "cell_type": "code",
      "execution_count": null,
      "id": "be9c5181-ce49-41d1-9432-859ac79de530",
      "metadata": {
        "id": "be9c5181-ce49-41d1-9432-859ac79de530"
      },
      "outputs": [],
      "source": [
        "import pandas as pd\n",
        "import numpy as np\n",
        "import os\n",
        "from google.colab import drive"
      ]
    },
    {
      "cell_type": "code",
      "execution_count": null,
      "id": "a2gNb9FpG-Dd",
      "metadata": {
        "colab": {
          "base_uri": "https://localhost:8080/"
        },
        "id": "a2gNb9FpG-Dd",
        "outputId": "3d98286a-0d9e-4462-af0c-8863ec947766"
      },
      "outputs": [
        {
          "output_type": "stream",
          "name": "stdout",
          "text": [
            "Drive already mounted at /content/drive; to attempt to forcibly remount, call drive.mount(\"/content/drive\", force_remount=True).\n",
            "Code.ipynb  merged_output.csv\n"
          ]
        }
      ],
      "source": [
        "\n",
        "drive.mount('/content/drive')\n",
        "\n",
        "# changing directory to the dataset folder\n",
        "os.chdir('/content/drive/My Drive/Colab Notebooks/Capstone')\n",
        "\n",
        "# Confirm\n",
        "!ls\n",
        "\n"
      ]
    },
    {
      "cell_type": "code",
      "execution_count": null,
      "id": "625dcde3",
      "metadata": {
        "id": "625dcde3"
      },
      "outputs": [],
      "source": [
        "\n",
        "# dataset files path into a list\n",
        "# csv_files = [\n",
        "#     \"./CIC-IDS-2017/Friday-WorkingHours-Afternoon-DDos.pcap_ISCX.csv\", \"./CIC-IDS-2017/Friday-WorkingHours-Afternoon-PortScan.pcap_ISCX.csv\", \"./CIC-IDS-2017/Friday-WorkingHours-Morning.pcap_ISCX.csv\", \"./CIC-IDS-2017/Monday-WorkingHours.pcap_ISCX.csv\",\n",
        "#     \"./CIC-IDS-2017/Thursday-WorkingHours-Afternoon-Infilteration.pcap_ISCX.csv\", \"./CIC-IDS-2017/Thursday-WorkingHours-Morning-WebAttacks.pcap_ISCX.csv\", \"./CIC-IDS-2017/Tuesday-WorkingHours.pcap_ISCX.csv\", \"./CIC-IDS-2017/Wednesday-workingHours.pcap_ISCX.csv\"\n",
        "# ]\n",
        "\n",
        "# msrged dataset\n",
        "# output = \"merged_output.csv\"\n",
        "\n",
        "# Opening output file and writing the header\n",
        "# first = True\n",
        "# with open(output, 'w', newline='', encoding='utf-8') as fout:\n",
        "#     for file in csv_files:\n",
        "#         for chunk in pd.read_csv(file, chunksize=100000):\n",
        "#             chunk.to_csv(fout, header=first, index=False)\n",
        "#             first = False\n"
      ]
    },
    {
      "cell_type": "code",
      "execution_count": null,
      "id": "c95cff18",
      "metadata": {
        "id": "c95cff18"
      },
      "outputs": [],
      "source": [
        "# from IPython.display import FileLink\n",
        "\n",
        "# FileLink(\"merged_output.csv\")\n"
      ]
    },
    {
      "cell_type": "code",
      "execution_count": null,
      "id": "7901fda1-da63-4e8b-80a6-e63268d7c52e",
      "metadata": {
        "id": "7901fda1-da63-4e8b-80a6-e63268d7c52e"
      },
      "outputs": [],
      "source": [
        "df=pd.read_csv('merged_output.csv')"
      ]
    },
    {
      "cell_type": "code",
      "execution_count": null,
      "id": "ef7e7cde-9e1f-4763-99ba-1bba69537b41",
      "metadata": {
        "colab": {
          "base_uri": "https://localhost:8080/",
          "height": 307
        },
        "id": "ef7e7cde-9e1f-4763-99ba-1bba69537b41",
        "outputId": "133acb7a-55f0-4f3a-f473-f2a7d6b926ee"
      },
      "outputs": [
        {
          "output_type": "execute_result",
          "data": {
            "text/plain": [
              "    Destination Port   Flow Duration   Total Fwd Packets  \\\n",
              "0              54865               3                   2   \n",
              "1              55054             109                   1   \n",
              "2              55055              52                   1   \n",
              "3              46236              34                   1   \n",
              "4              54863               3                   2   \n",
              "\n",
              "    Total Backward Packets  Total Length of Fwd Packets  \\\n",
              "0                        0                           12   \n",
              "1                        1                            6   \n",
              "2                        1                            6   \n",
              "3                        1                            6   \n",
              "4                        0                           12   \n",
              "\n",
              "    Total Length of Bwd Packets   Fwd Packet Length Max  \\\n",
              "0                             0                       6   \n",
              "1                             6                       6   \n",
              "2                             6                       6   \n",
              "3                             6                       6   \n",
              "4                             0                       6   \n",
              "\n",
              "    Fwd Packet Length Min   Fwd Packet Length Mean   Fwd Packet Length Std  \\\n",
              "0                       6                      6.0                     0.0   \n",
              "1                       6                      6.0                     0.0   \n",
              "2                       6                      6.0                     0.0   \n",
              "3                       6                      6.0                     0.0   \n",
              "4                       6                      6.0                     0.0   \n",
              "\n",
              "   ...   min_seg_size_forward  Active Mean   Active Std   Active Max  \\\n",
              "0  ...                     20          0.0          0.0            0   \n",
              "1  ...                     20          0.0          0.0            0   \n",
              "2  ...                     20          0.0          0.0            0   \n",
              "3  ...                     20          0.0          0.0            0   \n",
              "4  ...                     20          0.0          0.0            0   \n",
              "\n",
              "    Active Min  Idle Mean   Idle Std   Idle Max   Idle Min   Label  \n",
              "0            0        0.0        0.0          0          0  BENIGN  \n",
              "1            0        0.0        0.0          0          0  BENIGN  \n",
              "2            0        0.0        0.0          0          0  BENIGN  \n",
              "3            0        0.0        0.0          0          0  BENIGN  \n",
              "4            0        0.0        0.0          0          0  BENIGN  \n",
              "\n",
              "[5 rows x 79 columns]"
            ],
            "text/html": [
              "\n",
              "  <div id=\"df-fd3a1514-1b3c-4d7f-b438-25c91894b2f8\" class=\"colab-df-container\">\n",
              "    <div>\n",
              "<style scoped>\n",
              "    .dataframe tbody tr th:only-of-type {\n",
              "        vertical-align: middle;\n",
              "    }\n",
              "\n",
              "    .dataframe tbody tr th {\n",
              "        vertical-align: top;\n",
              "    }\n",
              "\n",
              "    .dataframe thead th {\n",
              "        text-align: right;\n",
              "    }\n",
              "</style>\n",
              "<table border=\"1\" class=\"dataframe\">\n",
              "  <thead>\n",
              "    <tr style=\"text-align: right;\">\n",
              "      <th></th>\n",
              "      <th>Destination Port</th>\n",
              "      <th>Flow Duration</th>\n",
              "      <th>Total Fwd Packets</th>\n",
              "      <th>Total Backward Packets</th>\n",
              "      <th>Total Length of Fwd Packets</th>\n",
              "      <th>Total Length of Bwd Packets</th>\n",
              "      <th>Fwd Packet Length Max</th>\n",
              "      <th>Fwd Packet Length Min</th>\n",
              "      <th>Fwd Packet Length Mean</th>\n",
              "      <th>Fwd Packet Length Std</th>\n",
              "      <th>...</th>\n",
              "      <th>min_seg_size_forward</th>\n",
              "      <th>Active Mean</th>\n",
              "      <th>Active Std</th>\n",
              "      <th>Active Max</th>\n",
              "      <th>Active Min</th>\n",
              "      <th>Idle Mean</th>\n",
              "      <th>Idle Std</th>\n",
              "      <th>Idle Max</th>\n",
              "      <th>Idle Min</th>\n",
              "      <th>Label</th>\n",
              "    </tr>\n",
              "  </thead>\n",
              "  <tbody>\n",
              "    <tr>\n",
              "      <th>0</th>\n",
              "      <td>54865</td>\n",
              "      <td>3</td>\n",
              "      <td>2</td>\n",
              "      <td>0</td>\n",
              "      <td>12</td>\n",
              "      <td>0</td>\n",
              "      <td>6</td>\n",
              "      <td>6</td>\n",
              "      <td>6.0</td>\n",
              "      <td>0.0</td>\n",
              "      <td>...</td>\n",
              "      <td>20</td>\n",
              "      <td>0.0</td>\n",
              "      <td>0.0</td>\n",
              "      <td>0</td>\n",
              "      <td>0</td>\n",
              "      <td>0.0</td>\n",
              "      <td>0.0</td>\n",
              "      <td>0</td>\n",
              "      <td>0</td>\n",
              "      <td>BENIGN</td>\n",
              "    </tr>\n",
              "    <tr>\n",
              "      <th>1</th>\n",
              "      <td>55054</td>\n",
              "      <td>109</td>\n",
              "      <td>1</td>\n",
              "      <td>1</td>\n",
              "      <td>6</td>\n",
              "      <td>6</td>\n",
              "      <td>6</td>\n",
              "      <td>6</td>\n",
              "      <td>6.0</td>\n",
              "      <td>0.0</td>\n",
              "      <td>...</td>\n",
              "      <td>20</td>\n",
              "      <td>0.0</td>\n",
              "      <td>0.0</td>\n",
              "      <td>0</td>\n",
              "      <td>0</td>\n",
              "      <td>0.0</td>\n",
              "      <td>0.0</td>\n",
              "      <td>0</td>\n",
              "      <td>0</td>\n",
              "      <td>BENIGN</td>\n",
              "    </tr>\n",
              "    <tr>\n",
              "      <th>2</th>\n",
              "      <td>55055</td>\n",
              "      <td>52</td>\n",
              "      <td>1</td>\n",
              "      <td>1</td>\n",
              "      <td>6</td>\n",
              "      <td>6</td>\n",
              "      <td>6</td>\n",
              "      <td>6</td>\n",
              "      <td>6.0</td>\n",
              "      <td>0.0</td>\n",
              "      <td>...</td>\n",
              "      <td>20</td>\n",
              "      <td>0.0</td>\n",
              "      <td>0.0</td>\n",
              "      <td>0</td>\n",
              "      <td>0</td>\n",
              "      <td>0.0</td>\n",
              "      <td>0.0</td>\n",
              "      <td>0</td>\n",
              "      <td>0</td>\n",
              "      <td>BENIGN</td>\n",
              "    </tr>\n",
              "    <tr>\n",
              "      <th>3</th>\n",
              "      <td>46236</td>\n",
              "      <td>34</td>\n",
              "      <td>1</td>\n",
              "      <td>1</td>\n",
              "      <td>6</td>\n",
              "      <td>6</td>\n",
              "      <td>6</td>\n",
              "      <td>6</td>\n",
              "      <td>6.0</td>\n",
              "      <td>0.0</td>\n",
              "      <td>...</td>\n",
              "      <td>20</td>\n",
              "      <td>0.0</td>\n",
              "      <td>0.0</td>\n",
              "      <td>0</td>\n",
              "      <td>0</td>\n",
              "      <td>0.0</td>\n",
              "      <td>0.0</td>\n",
              "      <td>0</td>\n",
              "      <td>0</td>\n",
              "      <td>BENIGN</td>\n",
              "    </tr>\n",
              "    <tr>\n",
              "      <th>4</th>\n",
              "      <td>54863</td>\n",
              "      <td>3</td>\n",
              "      <td>2</td>\n",
              "      <td>0</td>\n",
              "      <td>12</td>\n",
              "      <td>0</td>\n",
              "      <td>6</td>\n",
              "      <td>6</td>\n",
              "      <td>6.0</td>\n",
              "      <td>0.0</td>\n",
              "      <td>...</td>\n",
              "      <td>20</td>\n",
              "      <td>0.0</td>\n",
              "      <td>0.0</td>\n",
              "      <td>0</td>\n",
              "      <td>0</td>\n",
              "      <td>0.0</td>\n",
              "      <td>0.0</td>\n",
              "      <td>0</td>\n",
              "      <td>0</td>\n",
              "      <td>BENIGN</td>\n",
              "    </tr>\n",
              "  </tbody>\n",
              "</table>\n",
              "<p>5 rows × 79 columns</p>\n",
              "</div>\n",
              "    <div class=\"colab-df-buttons\">\n",
              "\n",
              "  <div class=\"colab-df-container\">\n",
              "    <button class=\"colab-df-convert\" onclick=\"convertToInteractive('df-fd3a1514-1b3c-4d7f-b438-25c91894b2f8')\"\n",
              "            title=\"Convert this dataframe to an interactive table.\"\n",
              "            style=\"display:none;\">\n",
              "\n",
              "  <svg xmlns=\"http://www.w3.org/2000/svg\" height=\"24px\" viewBox=\"0 -960 960 960\">\n",
              "    <path d=\"M120-120v-720h720v720H120Zm60-500h600v-160H180v160Zm220 220h160v-160H400v160Zm0 220h160v-160H400v160ZM180-400h160v-160H180v160Zm440 0h160v-160H620v160ZM180-180h160v-160H180v160Zm440 0h160v-160H620v160Z\"/>\n",
              "  </svg>\n",
              "    </button>\n",
              "\n",
              "  <style>\n",
              "    .colab-df-container {\n",
              "      display:flex;\n",
              "      gap: 12px;\n",
              "    }\n",
              "\n",
              "    .colab-df-convert {\n",
              "      background-color: #E8F0FE;\n",
              "      border: none;\n",
              "      border-radius: 50%;\n",
              "      cursor: pointer;\n",
              "      display: none;\n",
              "      fill: #1967D2;\n",
              "      height: 32px;\n",
              "      padding: 0 0 0 0;\n",
              "      width: 32px;\n",
              "    }\n",
              "\n",
              "    .colab-df-convert:hover {\n",
              "      background-color: #E2EBFA;\n",
              "      box-shadow: 0px 1px 2px rgba(60, 64, 67, 0.3), 0px 1px 3px 1px rgba(60, 64, 67, 0.15);\n",
              "      fill: #174EA6;\n",
              "    }\n",
              "\n",
              "    .colab-df-buttons div {\n",
              "      margin-bottom: 4px;\n",
              "    }\n",
              "\n",
              "    [theme=dark] .colab-df-convert {\n",
              "      background-color: #3B4455;\n",
              "      fill: #D2E3FC;\n",
              "    }\n",
              "\n",
              "    [theme=dark] .colab-df-convert:hover {\n",
              "      background-color: #434B5C;\n",
              "      box-shadow: 0px 1px 3px 1px rgba(0, 0, 0, 0.15);\n",
              "      filter: drop-shadow(0px 1px 2px rgba(0, 0, 0, 0.3));\n",
              "      fill: #FFFFFF;\n",
              "    }\n",
              "  </style>\n",
              "\n",
              "    <script>\n",
              "      const buttonEl =\n",
              "        document.querySelector('#df-fd3a1514-1b3c-4d7f-b438-25c91894b2f8 button.colab-df-convert');\n",
              "      buttonEl.style.display =\n",
              "        google.colab.kernel.accessAllowed ? 'block' : 'none';\n",
              "\n",
              "      async function convertToInteractive(key) {\n",
              "        const element = document.querySelector('#df-fd3a1514-1b3c-4d7f-b438-25c91894b2f8');\n",
              "        const dataTable =\n",
              "          await google.colab.kernel.invokeFunction('convertToInteractive',\n",
              "                                                    [key], {});\n",
              "        if (!dataTable) return;\n",
              "\n",
              "        const docLinkHtml = 'Like what you see? Visit the ' +\n",
              "          '<a target=\"_blank\" href=https://colab.research.google.com/notebooks/data_table.ipynb>data table notebook</a>'\n",
              "          + ' to learn more about interactive tables.';\n",
              "        element.innerHTML = '';\n",
              "        dataTable['output_type'] = 'display_data';\n",
              "        await google.colab.output.renderOutput(dataTable, element);\n",
              "        const docLink = document.createElement('div');\n",
              "        docLink.innerHTML = docLinkHtml;\n",
              "        element.appendChild(docLink);\n",
              "      }\n",
              "    </script>\n",
              "  </div>\n",
              "\n",
              "\n",
              "    <div id=\"df-7c8fdc25-7343-4b81-9ef7-6d9d48bc05d8\">\n",
              "      <button class=\"colab-df-quickchart\" onclick=\"quickchart('df-7c8fdc25-7343-4b81-9ef7-6d9d48bc05d8')\"\n",
              "                title=\"Suggest charts\"\n",
              "                style=\"display:none;\">\n",
              "\n",
              "<svg xmlns=\"http://www.w3.org/2000/svg\" height=\"24px\"viewBox=\"0 0 24 24\"\n",
              "     width=\"24px\">\n",
              "    <g>\n",
              "        <path d=\"M19 3H5c-1.1 0-2 .9-2 2v14c0 1.1.9 2 2 2h14c1.1 0 2-.9 2-2V5c0-1.1-.9-2-2-2zM9 17H7v-7h2v7zm4 0h-2V7h2v10zm4 0h-2v-4h2v4z\"/>\n",
              "    </g>\n",
              "</svg>\n",
              "      </button>\n",
              "\n",
              "<style>\n",
              "  .colab-df-quickchart {\n",
              "      --bg-color: #E8F0FE;\n",
              "      --fill-color: #1967D2;\n",
              "      --hover-bg-color: #E2EBFA;\n",
              "      --hover-fill-color: #174EA6;\n",
              "      --disabled-fill-color: #AAA;\n",
              "      --disabled-bg-color: #DDD;\n",
              "  }\n",
              "\n",
              "  [theme=dark] .colab-df-quickchart {\n",
              "      --bg-color: #3B4455;\n",
              "      --fill-color: #D2E3FC;\n",
              "      --hover-bg-color: #434B5C;\n",
              "      --hover-fill-color: #FFFFFF;\n",
              "      --disabled-bg-color: #3B4455;\n",
              "      --disabled-fill-color: #666;\n",
              "  }\n",
              "\n",
              "  .colab-df-quickchart {\n",
              "    background-color: var(--bg-color);\n",
              "    border: none;\n",
              "    border-radius: 50%;\n",
              "    cursor: pointer;\n",
              "    display: none;\n",
              "    fill: var(--fill-color);\n",
              "    height: 32px;\n",
              "    padding: 0;\n",
              "    width: 32px;\n",
              "  }\n",
              "\n",
              "  .colab-df-quickchart:hover {\n",
              "    background-color: var(--hover-bg-color);\n",
              "    box-shadow: 0 1px 2px rgba(60, 64, 67, 0.3), 0 1px 3px 1px rgba(60, 64, 67, 0.15);\n",
              "    fill: var(--button-hover-fill-color);\n",
              "  }\n",
              "\n",
              "  .colab-df-quickchart-complete:disabled,\n",
              "  .colab-df-quickchart-complete:disabled:hover {\n",
              "    background-color: var(--disabled-bg-color);\n",
              "    fill: var(--disabled-fill-color);\n",
              "    box-shadow: none;\n",
              "  }\n",
              "\n",
              "  .colab-df-spinner {\n",
              "    border: 2px solid var(--fill-color);\n",
              "    border-color: transparent;\n",
              "    border-bottom-color: var(--fill-color);\n",
              "    animation:\n",
              "      spin 1s steps(1) infinite;\n",
              "  }\n",
              "\n",
              "  @keyframes spin {\n",
              "    0% {\n",
              "      border-color: transparent;\n",
              "      border-bottom-color: var(--fill-color);\n",
              "      border-left-color: var(--fill-color);\n",
              "    }\n",
              "    20% {\n",
              "      border-color: transparent;\n",
              "      border-left-color: var(--fill-color);\n",
              "      border-top-color: var(--fill-color);\n",
              "    }\n",
              "    30% {\n",
              "      border-color: transparent;\n",
              "      border-left-color: var(--fill-color);\n",
              "      border-top-color: var(--fill-color);\n",
              "      border-right-color: var(--fill-color);\n",
              "    }\n",
              "    40% {\n",
              "      border-color: transparent;\n",
              "      border-right-color: var(--fill-color);\n",
              "      border-top-color: var(--fill-color);\n",
              "    }\n",
              "    60% {\n",
              "      border-color: transparent;\n",
              "      border-right-color: var(--fill-color);\n",
              "    }\n",
              "    80% {\n",
              "      border-color: transparent;\n",
              "      border-right-color: var(--fill-color);\n",
              "      border-bottom-color: var(--fill-color);\n",
              "    }\n",
              "    90% {\n",
              "      border-color: transparent;\n",
              "      border-bottom-color: var(--fill-color);\n",
              "    }\n",
              "  }\n",
              "</style>\n",
              "\n",
              "      <script>\n",
              "        async function quickchart(key) {\n",
              "          const quickchartButtonEl =\n",
              "            document.querySelector('#' + key + ' button');\n",
              "          quickchartButtonEl.disabled = true;  // To prevent multiple clicks.\n",
              "          quickchartButtonEl.classList.add('colab-df-spinner');\n",
              "          try {\n",
              "            const charts = await google.colab.kernel.invokeFunction(\n",
              "                'suggestCharts', [key], {});\n",
              "          } catch (error) {\n",
              "            console.error('Error during call to suggestCharts:', error);\n",
              "          }\n",
              "          quickchartButtonEl.classList.remove('colab-df-spinner');\n",
              "          quickchartButtonEl.classList.add('colab-df-quickchart-complete');\n",
              "        }\n",
              "        (() => {\n",
              "          let quickchartButtonEl =\n",
              "            document.querySelector('#df-7c8fdc25-7343-4b81-9ef7-6d9d48bc05d8 button');\n",
              "          quickchartButtonEl.style.display =\n",
              "            google.colab.kernel.accessAllowed ? 'block' : 'none';\n",
              "        })();\n",
              "      </script>\n",
              "    </div>\n",
              "\n",
              "    </div>\n",
              "  </div>\n"
            ],
            "application/vnd.google.colaboratory.intrinsic+json": {
              "type": "dataframe",
              "variable_name": "df"
            }
          },
          "metadata": {},
          "execution_count": 31
        }
      ],
      "source": [
        "df.head()"
      ]
    },
    {
      "cell_type": "code",
      "execution_count": null,
      "id": "a8f9c392-2eb2-4121-a6e8-1d182e5cdfa4",
      "metadata": {
        "colab": {
          "base_uri": "https://localhost:8080/"
        },
        "id": "a8f9c392-2eb2-4121-a6e8-1d182e5cdfa4",
        "outputId": "bef83ba1-0ca5-4ca5-f218-4594d797f873"
      },
      "outputs": [
        {
          "output_type": "stream",
          "name": "stdout",
          "text": [
            "<class 'pandas.core.frame.DataFrame'>\n",
            "RangeIndex: 2830743 entries, 0 to 2830742\n",
            "Data columns (total 79 columns):\n",
            " #   Column                        Dtype  \n",
            "---  ------                        -----  \n",
            " 0    Destination Port             int64  \n",
            " 1    Flow Duration                int64  \n",
            " 2    Total Fwd Packets            int64  \n",
            " 3    Total Backward Packets       int64  \n",
            " 4   Total Length of Fwd Packets   int64  \n",
            " 5    Total Length of Bwd Packets  int64  \n",
            " 6    Fwd Packet Length Max        int64  \n",
            " 7    Fwd Packet Length Min        int64  \n",
            " 8    Fwd Packet Length Mean       float64\n",
            " 9    Fwd Packet Length Std        float64\n",
            " 10  Bwd Packet Length Max         int64  \n",
            " 11   Bwd Packet Length Min        int64  \n",
            " 12   Bwd Packet Length Mean       float64\n",
            " 13   Bwd Packet Length Std        float64\n",
            " 14  Flow Bytes/s                  float64\n",
            " 15   Flow Packets/s               float64\n",
            " 16   Flow IAT Mean                float64\n",
            " 17   Flow IAT Std                 float64\n",
            " 18   Flow IAT Max                 int64  \n",
            " 19   Flow IAT Min                 int64  \n",
            " 20  Fwd IAT Total                 int64  \n",
            " 21   Fwd IAT Mean                 float64\n",
            " 22   Fwd IAT Std                  float64\n",
            " 23   Fwd IAT Max                  int64  \n",
            " 24   Fwd IAT Min                  int64  \n",
            " 25  Bwd IAT Total                 int64  \n",
            " 26   Bwd IAT Mean                 float64\n",
            " 27   Bwd IAT Std                  float64\n",
            " 28   Bwd IAT Max                  int64  \n",
            " 29   Bwd IAT Min                  int64  \n",
            " 30  Fwd PSH Flags                 int64  \n",
            " 31   Bwd PSH Flags                int64  \n",
            " 32   Fwd URG Flags                int64  \n",
            " 33   Bwd URG Flags                int64  \n",
            " 34   Fwd Header Length            int64  \n",
            " 35   Bwd Header Length            int64  \n",
            " 36  Fwd Packets/s                 float64\n",
            " 37   Bwd Packets/s                float64\n",
            " 38   Min Packet Length            int64  \n",
            " 39   Max Packet Length            int64  \n",
            " 40   Packet Length Mean           float64\n",
            " 41   Packet Length Std            float64\n",
            " 42   Packet Length Variance       float64\n",
            " 43  FIN Flag Count                int64  \n",
            " 44   SYN Flag Count               int64  \n",
            " 45   RST Flag Count               int64  \n",
            " 46   PSH Flag Count               int64  \n",
            " 47   ACK Flag Count               int64  \n",
            " 48   URG Flag Count               int64  \n",
            " 49   CWE Flag Count               int64  \n",
            " 50   ECE Flag Count               int64  \n",
            " 51   Down/Up Ratio                int64  \n",
            " 52   Average Packet Size          float64\n",
            " 53   Avg Fwd Segment Size         float64\n",
            " 54   Avg Bwd Segment Size         float64\n",
            " 55   Fwd Header Length.1          int64  \n",
            " 56  Fwd Avg Bytes/Bulk            int64  \n",
            " 57   Fwd Avg Packets/Bulk         int64  \n",
            " 58   Fwd Avg Bulk Rate            int64  \n",
            " 59   Bwd Avg Bytes/Bulk           int64  \n",
            " 60   Bwd Avg Packets/Bulk         int64  \n",
            " 61  Bwd Avg Bulk Rate             int64  \n",
            " 62  Subflow Fwd Packets           int64  \n",
            " 63   Subflow Fwd Bytes            int64  \n",
            " 64   Subflow Bwd Packets          int64  \n",
            " 65   Subflow Bwd Bytes            int64  \n",
            " 66  Init_Win_bytes_forward        int64  \n",
            " 67   Init_Win_bytes_backward      int64  \n",
            " 68   act_data_pkt_fwd             int64  \n",
            " 69   min_seg_size_forward         int64  \n",
            " 70  Active Mean                   float64\n",
            " 71   Active Std                   float64\n",
            " 72   Active Max                   int64  \n",
            " 73   Active Min                   int64  \n",
            " 74  Idle Mean                     float64\n",
            " 75   Idle Std                     float64\n",
            " 76   Idle Max                     int64  \n",
            " 77   Idle Min                     int64  \n",
            " 78   Label                        object \n",
            "dtypes: float64(24), int64(54), object(1)\n",
            "memory usage: 1.7+ GB\n"
          ]
        }
      ],
      "source": [
        "df.info()"
      ]
    },
    {
      "cell_type": "code",
      "execution_count": null,
      "id": "ac6ec9ea-88ec-47b4-b086-27dc0ea4543f",
      "metadata": {
        "id": "ac6ec9ea-88ec-47b4-b086-27dc0ea4543f"
      },
      "outputs": [],
      "source": [
        "#Cleaning column names"
      ]
    },
    {
      "cell_type": "code",
      "execution_count": null,
      "id": "65c44ef4",
      "metadata": {
        "id": "65c44ef4"
      },
      "outputs": [],
      "source": [
        "df.columns = df.columns.str.strip().str.replace(' ', '_').str.replace('/', '_')"
      ]
    },
    {
      "cell_type": "code",
      "execution_count": null,
      "id": "d3fb8010",
      "metadata": {
        "id": "d3fb8010"
      },
      "outputs": [],
      "source": [
        "#Missing Values"
      ]
    },
    {
      "cell_type": "code",
      "execution_count": null,
      "id": "412b0e8d",
      "metadata": {
        "colab": {
          "base_uri": "https://localhost:8080/",
          "height": 458
        },
        "id": "412b0e8d",
        "outputId": "666d3205-36b1-41f3-df5d-a1f536d6baac"
      },
      "outputs": [
        {
          "output_type": "execute_result",
          "data": {
            "text/plain": [
              "Flow_Bytes_s                   1358\n",
              "Flow_Duration                     0\n",
              "Destination_Port                  0\n",
              "Total_Backward_Packets            0\n",
              "Total_Length_of_Fwd_Packets       0\n",
              "                               ... \n",
              "Idle_Mean                         0\n",
              "Idle_Std                          0\n",
              "Idle_Max                          0\n",
              "Idle_Min                          0\n",
              "Label                             0\n",
              "Length: 79, dtype: int64"
            ],
            "text/html": [
              "<div>\n",
              "<style scoped>\n",
              "    .dataframe tbody tr th:only-of-type {\n",
              "        vertical-align: middle;\n",
              "    }\n",
              "\n",
              "    .dataframe tbody tr th {\n",
              "        vertical-align: top;\n",
              "    }\n",
              "\n",
              "    .dataframe thead th {\n",
              "        text-align: right;\n",
              "    }\n",
              "</style>\n",
              "<table border=\"1\" class=\"dataframe\">\n",
              "  <thead>\n",
              "    <tr style=\"text-align: right;\">\n",
              "      <th></th>\n",
              "      <th>0</th>\n",
              "    </tr>\n",
              "  </thead>\n",
              "  <tbody>\n",
              "    <tr>\n",
              "      <th>Flow_Bytes_s</th>\n",
              "      <td>1358</td>\n",
              "    </tr>\n",
              "    <tr>\n",
              "      <th>Flow_Duration</th>\n",
              "      <td>0</td>\n",
              "    </tr>\n",
              "    <tr>\n",
              "      <th>Destination_Port</th>\n",
              "      <td>0</td>\n",
              "    </tr>\n",
              "    <tr>\n",
              "      <th>Total_Backward_Packets</th>\n",
              "      <td>0</td>\n",
              "    </tr>\n",
              "    <tr>\n",
              "      <th>Total_Length_of_Fwd_Packets</th>\n",
              "      <td>0</td>\n",
              "    </tr>\n",
              "    <tr>\n",
              "      <th>...</th>\n",
              "      <td>...</td>\n",
              "    </tr>\n",
              "    <tr>\n",
              "      <th>Idle_Mean</th>\n",
              "      <td>0</td>\n",
              "    </tr>\n",
              "    <tr>\n",
              "      <th>Idle_Std</th>\n",
              "      <td>0</td>\n",
              "    </tr>\n",
              "    <tr>\n",
              "      <th>Idle_Max</th>\n",
              "      <td>0</td>\n",
              "    </tr>\n",
              "    <tr>\n",
              "      <th>Idle_Min</th>\n",
              "      <td>0</td>\n",
              "    </tr>\n",
              "    <tr>\n",
              "      <th>Label</th>\n",
              "      <td>0</td>\n",
              "    </tr>\n",
              "  </tbody>\n",
              "</table>\n",
              "<p>79 rows × 1 columns</p>\n",
              "</div><br><label><b>dtype:</b> int64</label>"
            ]
          },
          "metadata": {},
          "execution_count": 36
        }
      ],
      "source": [
        "df.isnull().sum().sort_values(ascending=False)\n"
      ]
    },
    {
      "cell_type": "code",
      "execution_count": null,
      "id": "0300ddae",
      "metadata": {
        "id": "0300ddae"
      },
      "outputs": [],
      "source": [
        "df = df.dropna()\n"
      ]
    },
    {
      "cell_type": "code",
      "execution_count": null,
      "id": "5efa1ab7",
      "metadata": {
        "id": "5efa1ab7"
      },
      "outputs": [],
      "source": [
        "#Dropping columns with constant value\n",
        "nunique = df.nunique()\n",
        "constant_cols = nunique[nunique == 1].index.tolist()\n",
        "df.drop(columns=constant_cols, inplace=True)\n"
      ]
    },
    {
      "cell_type": "code",
      "execution_count": null,
      "id": "527d60c5",
      "metadata": {
        "colab": {
          "base_uri": "https://localhost:8080/"
        },
        "id": "527d60c5",
        "outputId": "00a37869-ec53-4987-e3de-3191ed371154"
      },
      "outputs": [
        {
          "output_type": "stream",
          "name": "stdout",
          "text": [
            "<class 'pandas.core.frame.DataFrame'>\n",
            "Index: 2829385 entries, 0 to 2830742\n",
            "Data columns (total 71 columns):\n",
            " #   Column                       Dtype  \n",
            "---  ------                       -----  \n",
            " 0   Destination_Port             int64  \n",
            " 1   Flow_Duration                int64  \n",
            " 2   Total_Fwd_Packets            int64  \n",
            " 3   Total_Backward_Packets       int64  \n",
            " 4   Total_Length_of_Fwd_Packets  int64  \n",
            " 5   Total_Length_of_Bwd_Packets  int64  \n",
            " 6   Fwd_Packet_Length_Max        int64  \n",
            " 7   Fwd_Packet_Length_Min        int64  \n",
            " 8   Fwd_Packet_Length_Mean       float64\n",
            " 9   Fwd_Packet_Length_Std        float64\n",
            " 10  Bwd_Packet_Length_Max        int64  \n",
            " 11  Bwd_Packet_Length_Min        int64  \n",
            " 12  Bwd_Packet_Length_Mean       float64\n",
            " 13  Bwd_Packet_Length_Std        float64\n",
            " 14  Flow_Bytes_s                 float64\n",
            " 15  Flow_Packets_s               float64\n",
            " 16  Flow_IAT_Mean                float64\n",
            " 17  Flow_IAT_Std                 float64\n",
            " 18  Flow_IAT_Max                 int64  \n",
            " 19  Flow_IAT_Min                 int64  \n",
            " 20  Fwd_IAT_Total                int64  \n",
            " 21  Fwd_IAT_Mean                 float64\n",
            " 22  Fwd_IAT_Std                  float64\n",
            " 23  Fwd_IAT_Max                  int64  \n",
            " 24  Fwd_IAT_Min                  int64  \n",
            " 25  Bwd_IAT_Total                int64  \n",
            " 26  Bwd_IAT_Mean                 float64\n",
            " 27  Bwd_IAT_Std                  float64\n",
            " 28  Bwd_IAT_Max                  int64  \n",
            " 29  Bwd_IAT_Min                  int64  \n",
            " 30  Fwd_PSH_Flags                int64  \n",
            " 31  Fwd_URG_Flags                int64  \n",
            " 32  Fwd_Header_Length            int64  \n",
            " 33  Bwd_Header_Length            int64  \n",
            " 34  Fwd_Packets_s                float64\n",
            " 35  Bwd_Packets_s                float64\n",
            " 36  Min_Packet_Length            int64  \n",
            " 37  Max_Packet_Length            int64  \n",
            " 38  Packet_Length_Mean           float64\n",
            " 39  Packet_Length_Std            float64\n",
            " 40  Packet_Length_Variance       float64\n",
            " 41  FIN_Flag_Count               int64  \n",
            " 42  SYN_Flag_Count               int64  \n",
            " 43  RST_Flag_Count               int64  \n",
            " 44  PSH_Flag_Count               int64  \n",
            " 45  ACK_Flag_Count               int64  \n",
            " 46  URG_Flag_Count               int64  \n",
            " 47  CWE_Flag_Count               int64  \n",
            " 48  ECE_Flag_Count               int64  \n",
            " 49  Down_Up_Ratio                int64  \n",
            " 50  Average_Packet_Size          float64\n",
            " 51  Avg_Fwd_Segment_Size         float64\n",
            " 52  Avg_Bwd_Segment_Size         float64\n",
            " 53  Fwd_Header_Length.1          int64  \n",
            " 54  Subflow_Fwd_Packets          int64  \n",
            " 55  Subflow_Fwd_Bytes            int64  \n",
            " 56  Subflow_Bwd_Packets          int64  \n",
            " 57  Subflow_Bwd_Bytes            int64  \n",
            " 58  Init_Win_bytes_forward       int64  \n",
            " 59  Init_Win_bytes_backward      int64  \n",
            " 60  act_data_pkt_fwd             int64  \n",
            " 61  min_seg_size_forward         int64  \n",
            " 62  Active_Mean                  float64\n",
            " 63  Active_Std                   float64\n",
            " 64  Active_Max                   int64  \n",
            " 65  Active_Min                   int64  \n",
            " 66  Idle_Mean                    float64\n",
            " 67  Idle_Std                     float64\n",
            " 68  Idle_Max                     int64  \n",
            " 69  Idle_Min                     int64  \n",
            " 70  Label                        object \n",
            "dtypes: float64(24), int64(46), object(1)\n",
            "memory usage: 1.5+ GB\n"
          ]
        }
      ],
      "source": [
        "df.info()"
      ]
    },
    {
      "cell_type": "code",
      "execution_count": null,
      "id": "28ef21c7",
      "metadata": {
        "colab": {
          "base_uri": "https://localhost:8080/",
          "height": 585
        },
        "id": "28ef21c7",
        "outputId": "b347787a-6a38-468c-8b29-ce2946b276d7"
      },
      "outputs": [
        {
          "output_type": "execute_result",
          "data": {
            "text/plain": [
              "Label\n",
              "BENIGN                        2272688\n",
              "DoS Hulk                       230124\n",
              "PortScan                       158930\n",
              "DDoS                           128027\n",
              "DoS GoldenEye                   10293\n",
              "FTP-Patator                      7938\n",
              "SSH-Patator                      5897\n",
              "DoS slowloris                    5796\n",
              "DoS Slowhttptest                 5499\n",
              "Bot                              1966\n",
              "Web Attack � Brute Force         1507\n",
              "Web Attack � XSS                  652\n",
              "Infiltration                       36\n",
              "Web Attack � Sql Injection         21\n",
              "Heartbleed                         11\n",
              "Name: count, dtype: int64"
            ],
            "text/html": [
              "<div>\n",
              "<style scoped>\n",
              "    .dataframe tbody tr th:only-of-type {\n",
              "        vertical-align: middle;\n",
              "    }\n",
              "\n",
              "    .dataframe tbody tr th {\n",
              "        vertical-align: top;\n",
              "    }\n",
              "\n",
              "    .dataframe thead th {\n",
              "        text-align: right;\n",
              "    }\n",
              "</style>\n",
              "<table border=\"1\" class=\"dataframe\">\n",
              "  <thead>\n",
              "    <tr style=\"text-align: right;\">\n",
              "      <th></th>\n",
              "      <th>count</th>\n",
              "    </tr>\n",
              "    <tr>\n",
              "      <th>Label</th>\n",
              "      <th></th>\n",
              "    </tr>\n",
              "  </thead>\n",
              "  <tbody>\n",
              "    <tr>\n",
              "      <th>BENIGN</th>\n",
              "      <td>2272688</td>\n",
              "    </tr>\n",
              "    <tr>\n",
              "      <th>DoS Hulk</th>\n",
              "      <td>230124</td>\n",
              "    </tr>\n",
              "    <tr>\n",
              "      <th>PortScan</th>\n",
              "      <td>158930</td>\n",
              "    </tr>\n",
              "    <tr>\n",
              "      <th>DDoS</th>\n",
              "      <td>128027</td>\n",
              "    </tr>\n",
              "    <tr>\n",
              "      <th>DoS GoldenEye</th>\n",
              "      <td>10293</td>\n",
              "    </tr>\n",
              "    <tr>\n",
              "      <th>FTP-Patator</th>\n",
              "      <td>7938</td>\n",
              "    </tr>\n",
              "    <tr>\n",
              "      <th>SSH-Patator</th>\n",
              "      <td>5897</td>\n",
              "    </tr>\n",
              "    <tr>\n",
              "      <th>DoS slowloris</th>\n",
              "      <td>5796</td>\n",
              "    </tr>\n",
              "    <tr>\n",
              "      <th>DoS Slowhttptest</th>\n",
              "      <td>5499</td>\n",
              "    </tr>\n",
              "    <tr>\n",
              "      <th>Bot</th>\n",
              "      <td>1966</td>\n",
              "    </tr>\n",
              "    <tr>\n",
              "      <th>Web Attack � Brute Force</th>\n",
              "      <td>1507</td>\n",
              "    </tr>\n",
              "    <tr>\n",
              "      <th>Web Attack � XSS</th>\n",
              "      <td>652</td>\n",
              "    </tr>\n",
              "    <tr>\n",
              "      <th>Infiltration</th>\n",
              "      <td>36</td>\n",
              "    </tr>\n",
              "    <tr>\n",
              "      <th>Web Attack � Sql Injection</th>\n",
              "      <td>21</td>\n",
              "    </tr>\n",
              "    <tr>\n",
              "      <th>Heartbleed</th>\n",
              "      <td>11</td>\n",
              "    </tr>\n",
              "  </tbody>\n",
              "</table>\n",
              "</div><br><label><b>dtype:</b> int64</label>"
            ]
          },
          "metadata": {},
          "execution_count": 40
        }
      ],
      "source": [
        "#Label encoding\n",
        "df['Label'].value_counts()\n"
      ]
    },
    {
      "cell_type": "code",
      "execution_count": null,
      "id": "7907b5ea",
      "metadata": {
        "id": "7907b5ea"
      },
      "outputs": [],
      "source": [
        "# Converting other labels into Anomaly except BENIGN\n",
        "\n",
        "df['Label'] = np.where(df['Label'] == 'BENIGN', 'BENIGN', 'ANOMALY')\n"
      ]
    },
    {
      "cell_type": "code",
      "execution_count": null,
      "id": "86fe182a",
      "metadata": {
        "colab": {
          "base_uri": "https://localhost:8080/",
          "height": 178
        },
        "id": "86fe182a",
        "outputId": "05a089d7-06d9-45f8-d1c6-8db902f0f9de"
      },
      "outputs": [
        {
          "output_type": "execute_result",
          "data": {
            "text/plain": [
              "Label\n",
              "BENIGN     2272688\n",
              "ANOMALY     556697\n",
              "Name: count, dtype: int64"
            ],
            "text/html": [
              "<div>\n",
              "<style scoped>\n",
              "    .dataframe tbody tr th:only-of-type {\n",
              "        vertical-align: middle;\n",
              "    }\n",
              "\n",
              "    .dataframe tbody tr th {\n",
              "        vertical-align: top;\n",
              "    }\n",
              "\n",
              "    .dataframe thead th {\n",
              "        text-align: right;\n",
              "    }\n",
              "</style>\n",
              "<table border=\"1\" class=\"dataframe\">\n",
              "  <thead>\n",
              "    <tr style=\"text-align: right;\">\n",
              "      <th></th>\n",
              "      <th>count</th>\n",
              "    </tr>\n",
              "    <tr>\n",
              "      <th>Label</th>\n",
              "      <th></th>\n",
              "    </tr>\n",
              "  </thead>\n",
              "  <tbody>\n",
              "    <tr>\n",
              "      <th>BENIGN</th>\n",
              "      <td>2272688</td>\n",
              "    </tr>\n",
              "    <tr>\n",
              "      <th>ANOMALY</th>\n",
              "      <td>556697</td>\n",
              "    </tr>\n",
              "  </tbody>\n",
              "</table>\n",
              "</div><br><label><b>dtype:</b> int64</label>"
            ]
          },
          "metadata": {},
          "execution_count": 42
        }
      ],
      "source": [
        "df['Label'].value_counts()"
      ]
    },
    {
      "cell_type": "code",
      "execution_count": null,
      "id": "d89d3115",
      "metadata": {
        "id": "d89d3115"
      },
      "outputs": [],
      "source": [
        "from sklearn.preprocessing import LabelEncoder\n",
        "le = LabelEncoder()\n",
        "df['Label'] = le.fit_transform(df['Label'])\n"
      ]
    },
    {
      "cell_type": "code",
      "execution_count": null,
      "id": "c9552001",
      "metadata": {
        "colab": {
          "base_uri": "https://localhost:8080/"
        },
        "id": "c9552001",
        "outputId": "460995a6-1044-4d74-d2f8-5e0de1971443"
      },
      "outputs": [
        {
          "output_type": "execute_result",
          "data": {
            "text/plain": [
              "array(['ANOMALY', 'BENIGN'], dtype=object)"
            ]
          },
          "metadata": {},
          "execution_count": 44
        }
      ],
      "source": [
        "le.classes_\n"
      ]
    },
    {
      "cell_type": "code",
      "execution_count": null,
      "id": "5d838452",
      "metadata": {
        "id": "5d838452"
      },
      "outputs": [],
      "source": [
        "#Handling infinite values\n",
        "df = df.replace([np.inf, -np.inf], np.nan)\n",
        "df = df.dropna()\n"
      ]
    },
    {
      "cell_type": "code",
      "execution_count": null,
      "id": "af707062",
      "metadata": {
        "id": "af707062"
      },
      "outputs": [],
      "source": [
        "from sklearn.preprocessing import MinMaxScaler\n",
        "features = df.drop('Label', axis=1)\n",
        "target = df['Label']\n",
        "scaler = MinMaxScaler()\n",
        "features_scaled = scaler.fit_transform(features)\n"
      ]
    },
    {
      "cell_type": "code",
      "execution_count": null,
      "id": "a1df3438",
      "metadata": {
        "id": "a1df3438"
      },
      "outputs": [],
      "source": [
        "X=features\n",
        "X_scaled=features_scaled\n",
        "y=target"
      ]
    },
    {
      "cell_type": "code",
      "execution_count": null,
      "id": "fe836dfb",
      "metadata": {
        "colab": {
          "base_uri": "https://localhost:8080/"
        },
        "id": "fe836dfb",
        "outputId": "9a2f41dd-bcbd-49e6-e45a-fe58895bdf28"
      },
      "outputs": [
        {
          "output_type": "stream",
          "name": "stdout",
          "text": [
            "number of selected features:\n",
            "65\n"
          ]
        }
      ],
      "source": [
        "#Feature Selection using Chi2\n",
        "from sklearn.feature_selection import chi2, SelectKBest\n",
        "from sklearn.preprocessing import LabelEncoder, MinMaxScaler\n",
        "chi2_selector = SelectKBest(score_func=chi2, k='all')\n",
        "chi2_selector.fit(X_scaled, y)\n",
        "p_values = pd.Series(chi2_selector.pvalues_, index=X.columns)\n",
        "significant_features = p_values[p_values < 0.05].index.tolist()\n",
        "print(\"number of selected features:\")\n",
        "print(len(significant_features))\n",
        "X_selected=X[significant_features]"
      ]
    },
    {
      "cell_type": "code",
      "execution_count": null,
      "id": "G9c5Qt1-2LhI",
      "metadata": {
        "colab": {
          "base_uri": "https://localhost:8080/"
        },
        "id": "G9c5Qt1-2LhI",
        "outputId": "68c14ddf-2c86-4d60-fdd1-26ce4d6d0cf3"
      },
      "outputs": [
        {
          "output_type": "stream",
          "name": "stdout",
          "text": [
            "<class 'pandas.core.frame.DataFrame'>\n",
            "Index: 2827876 entries, 0 to 2830742\n",
            "Data columns (total 65 columns):\n",
            " #   Column                       Dtype  \n",
            "---  ------                       -----  \n",
            " 0   Destination_Port             int64  \n",
            " 1   Flow_Duration                int64  \n",
            " 2   Total_Fwd_Packets            int64  \n",
            " 3   Total_Backward_Packets       int64  \n",
            " 4   Total_Length_of_Fwd_Packets  int64  \n",
            " 5   Total_Length_of_Bwd_Packets  int64  \n",
            " 6   Fwd_Packet_Length_Max        int64  \n",
            " 7   Fwd_Packet_Length_Min        int64  \n",
            " 8   Fwd_Packet_Length_Mean       float64\n",
            " 9   Fwd_Packet_Length_Std        float64\n",
            " 10  Bwd_Packet_Length_Max        int64  \n",
            " 11  Bwd_Packet_Length_Min        int64  \n",
            " 12  Bwd_Packet_Length_Mean       float64\n",
            " 13  Bwd_Packet_Length_Std        float64\n",
            " 14  Flow_Packets_s               float64\n",
            " 15  Flow_IAT_Mean                float64\n",
            " 16  Flow_IAT_Std                 float64\n",
            " 17  Flow_IAT_Max                 int64  \n",
            " 18  Flow_IAT_Min                 int64  \n",
            " 19  Fwd_IAT_Total                int64  \n",
            " 20  Fwd_IAT_Mean                 float64\n",
            " 21  Fwd_IAT_Std                  float64\n",
            " 22  Fwd_IAT_Max                  int64  \n",
            " 23  Fwd_IAT_Min                  int64  \n",
            " 24  Bwd_IAT_Total                int64  \n",
            " 25  Bwd_IAT_Mean                 float64\n",
            " 26  Bwd_IAT_Std                  float64\n",
            " 27  Bwd_IAT_Max                  int64  \n",
            " 28  Bwd_IAT_Min                  int64  \n",
            " 29  Fwd_PSH_Flags                int64  \n",
            " 30  Fwd_URG_Flags                int64  \n",
            " 31  Fwd_Packets_s                float64\n",
            " 32  Bwd_Packets_s                float64\n",
            " 33  Min_Packet_Length            int64  \n",
            " 34  Max_Packet_Length            int64  \n",
            " 35  Packet_Length_Mean           float64\n",
            " 36  Packet_Length_Std            float64\n",
            " 37  Packet_Length_Variance       float64\n",
            " 38  FIN_Flag_Count               int64  \n",
            " 39  SYN_Flag_Count               int64  \n",
            " 40  RST_Flag_Count               int64  \n",
            " 41  PSH_Flag_Count               int64  \n",
            " 42  ACK_Flag_Count               int64  \n",
            " 43  URG_Flag_Count               int64  \n",
            " 44  CWE_Flag_Count               int64  \n",
            " 45  ECE_Flag_Count               int64  \n",
            " 46  Down_Up_Ratio                int64  \n",
            " 47  Average_Packet_Size          float64\n",
            " 48  Avg_Fwd_Segment_Size         float64\n",
            " 49  Avg_Bwd_Segment_Size         float64\n",
            " 50  Subflow_Fwd_Packets          int64  \n",
            " 51  Subflow_Fwd_Bytes            int64  \n",
            " 52  Subflow_Bwd_Packets          int64  \n",
            " 53  Subflow_Bwd_Bytes            int64  \n",
            " 54  Init_Win_bytes_forward       int64  \n",
            " 55  Init_Win_bytes_backward      int64  \n",
            " 56  act_data_pkt_fwd             int64  \n",
            " 57  Active_Mean                  float64\n",
            " 58  Active_Std                   float64\n",
            " 59  Active_Max                   int64  \n",
            " 60  Active_Min                   int64  \n",
            " 61  Idle_Mean                    float64\n",
            " 62  Idle_Std                     float64\n",
            " 63  Idle_Max                     int64  \n",
            " 64  Idle_Min                     int64  \n",
            "dtypes: float64(23), int64(42)\n",
            "memory usage: 1.4 GB\n"
          ]
        }
      ],
      "source": [
        "X_selected.info()"
      ]
    },
    {
      "cell_type": "code",
      "execution_count": null,
      "id": "db0afb42",
      "metadata": {
        "colab": {
          "base_uri": "https://localhost:8080/"
        },
        "id": "db0afb42",
        "outputId": "91031c8f-2389-4a7c-afdf-e9bd210fdd97"
      },
      "outputs": [
        {
          "output_type": "stream",
          "name": "stdout",
          "text": [
            "Top 20 features selected:\n",
            "['Destination_Port', 'Flow_Duration', 'Fwd_Packet_Length_Max', 'Fwd_Packet_Length_Std', 'Bwd_Packet_Length_Max', 'Bwd_Packet_Length_Min', 'Bwd_Packet_Length_Mean', 'Flow_IAT_Max', 'Fwd_IAT_Max', 'Bwd_IAT_Total', 'Min_Packet_Length', 'Packet_Length_Variance', 'PSH_Flag_Count', 'ACK_Flag_Count', 'URG_Flag_Count', 'Down_Up_Ratio', 'Avg_Bwd_Segment_Size', 'Init_Win_bytes_backward', 'Active_Max', 'Idle_Max']\n"
          ]
        },
        {
          "output_type": "stream",
          "name": "stderr",
          "text": [
            "/usr/local/lib/python3.11/dist-packages/sklearn/linear_model/_sag.py:348: ConvergenceWarning: The max_iter was reached which means the coef_ did not converge\n",
            "  warnings.warn(\n"
          ]
        }
      ],
      "source": [
        "# Using a sample of data for feature selection using logistic regression with L1 penality\n",
        "sample_size = 200_000\n",
        "X_sample = X_selected.sample(n=sample_size, random_state=42)\n",
        "y_sample = y.loc[X_sample.index]\n",
        "\n",
        "# Scale\n",
        "scaler = StandardScaler()\n",
        "X_scaled = scaler.fit_transform(X_sample)\n",
        "\n",
        "# L1 Logistic Regression\n",
        "model = LogisticRegression(penalty='l1', solver='saga', max_iter=2000, n_jobs=-1, C=0.1)\n",
        "model.fit(X_scaled, y_sample)\n",
        "\n",
        "# Selecting features\n",
        "selector = SelectFromModel(model, prefit=True, max_features=20)\n",
        "selected_features = X_selected.columns[selector.get_support()].tolist()\n",
        "\n",
        "print(\"Top 20 features selected:\")\n",
        "print(selected_features)\n"
      ]
    },
    {
      "cell_type": "code",
      "execution_count": null,
      "id": "6dc2c4ab",
      "metadata": {
        "id": "6dc2c4ab",
        "colab": {
          "base_uri": "https://localhost:8080/"
        },
        "outputId": "3618d491-bddf-4ae6-d2f2-3266ec033262"
      },
      "outputs": [
        {
          "output_type": "stream",
          "name": "stdout",
          "text": [
            "<class 'pandas.core.series.Series'>\n",
            "Index: 200000 entries, 176112 to 2355602\n",
            "Series name: Label\n",
            "Non-Null Count   Dtype\n",
            "--------------   -----\n",
            "200000 non-null  int64\n",
            "dtypes: int64(1)\n",
            "memory usage: 3.1 MB\n"
          ]
        }
      ],
      "source": [
        "y_sample.info()"
      ]
    },
    {
      "cell_type": "code",
      "source": [
        "final_df = df[selected_features].copy()\n",
        "final_df['Label'] = y\n",
        "\n",
        "# Saveing to csv\n",
        "final_df.to_csv('selected_features_with_label.csv', index=False)\n",
        "print(\"CSV file saved as selected_features_with_label.csv\")"
      ],
      "metadata": {
        "colab": {
          "base_uri": "https://localhost:8080/"
        },
        "id": "0J5M7K35LkAn",
        "outputId": "9a0a2ef6-6d8a-415f-81e2-c135a4dcec29"
      },
      "id": "0J5M7K35LkAn",
      "execution_count": null,
      "outputs": [
        {
          "output_type": "stream",
          "name": "stdout",
          "text": [
            "CSV file saved as selected_features_with_label.csv\n"
          ]
        }
      ]
    },
    {
      "cell_type": "code",
      "source": [
        "final_df['Label'].value_counts()"
      ],
      "metadata": {
        "colab": {
          "base_uri": "https://localhost:8080/",
          "height": 178
        },
        "id": "rEMuQvSTMJmt",
        "outputId": "a13eba07-7876-4883-8c3a-5c83093e9d95"
      },
      "id": "rEMuQvSTMJmt",
      "execution_count": null,
      "outputs": [
        {
          "output_type": "execute_result",
          "data": {
            "text/plain": [
              "Label\n",
              "1    2271320\n",
              "0     556556\n",
              "Name: count, dtype: int64"
            ],
            "text/html": [
              "<div>\n",
              "<style scoped>\n",
              "    .dataframe tbody tr th:only-of-type {\n",
              "        vertical-align: middle;\n",
              "    }\n",
              "\n",
              "    .dataframe tbody tr th {\n",
              "        vertical-align: top;\n",
              "    }\n",
              "\n",
              "    .dataframe thead th {\n",
              "        text-align: right;\n",
              "    }\n",
              "</style>\n",
              "<table border=\"1\" class=\"dataframe\">\n",
              "  <thead>\n",
              "    <tr style=\"text-align: right;\">\n",
              "      <th></th>\n",
              "      <th>count</th>\n",
              "    </tr>\n",
              "    <tr>\n",
              "      <th>Label</th>\n",
              "      <th></th>\n",
              "    </tr>\n",
              "  </thead>\n",
              "  <tbody>\n",
              "    <tr>\n",
              "      <th>1</th>\n",
              "      <td>2271320</td>\n",
              "    </tr>\n",
              "    <tr>\n",
              "      <th>0</th>\n",
              "      <td>556556</td>\n",
              "    </tr>\n",
              "  </tbody>\n",
              "</table>\n",
              "</div><br><label><b>dtype:</b> int64</label>"
            ]
          },
          "metadata": {},
          "execution_count": 53
        }
      ]
    },
    {
      "cell_type": "code",
      "source": [],
      "metadata": {
        "id": "UtmpGYlNPw9K"
      },
      "id": "UtmpGYlNPw9K",
      "execution_count": null,
      "outputs": []
    }
  ],
  "metadata": {
    "colab": {
      "machine_shape": "hm",
      "provenance": [],
      "include_colab_link": true
    },
    "kernelspec": {
      "display_name": "Python 3",
      "name": "python3"
    },
    "language_info": {
      "codemirror_mode": {
        "name": "ipython",
        "version": 3
      },
      "file_extension": ".py",
      "mimetype": "text/x-python",
      "name": "python",
      "nbconvert_exporter": "python",
      "pygments_lexer": "ipython3",
      "version": "3.12.4"
    }
  },
  "nbformat": 4,
  "nbformat_minor": 5
}